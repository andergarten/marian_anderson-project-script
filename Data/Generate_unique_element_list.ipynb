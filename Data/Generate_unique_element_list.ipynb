{
 "cells": [
  {
   "cell_type": "code",
   "execution_count": 2,
   "metadata": {},
   "outputs": [],
   "source": [
    "import pandas as pd\n",
    "import os\n",
    "import numpy\n",
    "from openpyxl import *"
   ]
  },
  {
   "cell_type": "markdown",
   "metadata": {},
   "source": [
    "# open excel data"
   ]
  },
  {
   "cell_type": "code",
   "execution_count": 5,
   "metadata": {
    "scrolled": true
   },
   "outputs": [],
   "source": [
    "os.chdir(r'/Users/zhiyuzhou/OneDrive/Penn/Work_on-campus/Marian_Anderson/Descriptive_matadata/sheet')\n",
    "data = pd.read_excel(\"test_data_box_178-213.xlsx\")"
   ]
  },
  {
   "cell_type": "markdown",
   "metadata": {},
   "source": [
    "# Find unique value in all fields"
   ]
  },
  {
   "cell_type": "code",
   "execution_count": null,
   "metadata": {},
   "outputs": [],
   "source": [
    "# get unique city\n",
    "city = data['CITY'].unique()\n",
    "# get unique state\n",
    "state = data['STATE'].unique()\n",
    "# get unique country\n",
    "country = data['COUNTRY'].unique()\n",
    "# get unique venue\n",
    "venue = data['VENUE'].unique()\n",
    "# get uniqie date\n",
    "date = data['DATE (MM/DD/YYYY)'].unique()\n",
    "# create a dict to store the unique information\n",
    "uniq_dict = dict(City = city, State = state, Country = country, Venue = venue, Date = date)\n",
    "# create a dataframe to store the data\n",
    "uniq_list = pd.DataFrame(dict((k, pd.Series(v)) for k,v in uniq_dict.items())) "
   ]
  },
  {
   "cell_type": "markdown",
   "metadata": {},
   "source": [
    "# Write all unique value to a new sheet"
   ]
  },
  {
   "cell_type": "code",
   "execution_count": 31,
   "metadata": {},
   "outputs": [],
   "source": [
    "# create a new writer\n",
    "writer = pd.ExcelWriter(\"uniq_element_list_178-179_4.3.19.xlsx\", engine='openpyxl')\n",
    "# open a workbook\n",
    "wb = load_workbook('uniq_element_list_178-179_4.3.19.xlsx')\n",
    "ws = wb['Sheet2']\n",
    "# specify writer's workbook and worksheet\n",
    "writer.book = wb\n",
    "writer.sheet = ws\n",
    "\n",
    "# write data to excel\n",
    "for index, row in uniq_list.iterrows():\n",
    "    # write header\n",
    "    #ws.cell(row = index + 1, column = 3*col + 1).value\n",
    "    for col in range(0,5):\n",
    "        ws.cell(row = index + 1, column = 3*col + 1).value = row[col]      \n",
    "# save\n",
    "wb.save('uniq_element_list_178-179_4.3.19.xlsx')\n"
   ]
  }
 ],
 "metadata": {
  "kernelspec": {
   "display_name": "Python 3",
   "language": "python",
   "name": "python3"
  },
  "language_info": {
   "codemirror_mode": {
    "name": "ipython",
    "version": 3
   },
   "file_extension": ".py",
   "mimetype": "text/x-python",
   "name": "python",
   "nbconvert_exporter": "python",
   "pygments_lexer": "ipython3",
   "version": "3.6.5"
  }
 },
 "nbformat": 4,
 "nbformat_minor": 2
}
